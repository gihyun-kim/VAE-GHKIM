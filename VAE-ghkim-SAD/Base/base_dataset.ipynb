{
 "cells": [
  {
   "cell_type": "code",
   "execution_count": 1,
   "metadata": {},
   "outputs": [],
   "source": [
    "from abc import ABC, abstractmethod\n",
    "from torch.utils.data import DataLoader\n",
    "\n",
    "class BassADDataset(ABC):\n",
    "    \"\"\"Anomaly detection dataset base class\"\"\"\n",
    "\n",
    "    def __init__(self, root: str):\n",
    "        super().__init__()\n",
    "        self.root = root \n",
    "\n",
    "        self.n_classes = 2\n",
    "        self.normal_classes = None\n",
    "        self.outlier_classes = None\n",
    "\n",
    "        self.train_set = None\n",
    "        self.test_set = None\n",
    "    \n",
    "    @abstractmethod\n",
    "    def loaders(self, batch_size: int, shuffle_train=True, shuffle_test=False, num_workers: int = 0):\n",
    "        \"\"\"Implement data loaders of type torch.utils.data.DataLoader for train_set and test_set\"\"\"\n",
    "        pass\n",
    "\n",
    "    def __repr__(self):\n",
    "        return self.__class__.__name__"
   ]
  }
 ],
 "metadata": {
  "kernelspec": {
   "display_name": "VAE-ghkim",
   "language": "python",
   "name": "python3"
  },
  "language_info": {
   "codemirror_mode": {
    "name": "ipython",
    "version": 3
   },
   "file_extension": ".py",
   "mimetype": "text/x-python",
   "name": "python",
   "nbconvert_exporter": "python",
   "pygments_lexer": "ipython3",
   "version": "3.9.15"
  },
  "orig_nbformat": 4,
  "vscode": {
   "interpreter": {
    "hash": "3f812d30827dcfafc49afa604e430aca6abfcfc8451ce89abf25df7bee697806"
   }
  }
 },
 "nbformat": 4,
 "nbformat_minor": 2
}
