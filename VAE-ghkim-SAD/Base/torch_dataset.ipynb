{
 "cells": [
  {
   "cell_type": "code",
   "execution_count": 10,
   "metadata": {},
   "outputs": [],
   "source": [
    "import import_ipynb\n",
    "from base_dataset import BassADDataset\n"
   ]
  }
 ],
 "metadata": {
  "kernelspec": {
   "display_name": "VAE-ghkim",
   "language": "python",
   "name": "python3"
  },
  "language_info": {
   "codemirror_mode": {
    "name": "ipython",
    "version": 3
   },
   "file_extension": ".py",
   "mimetype": "text/x-python",
   "name": "python",
   "nbconvert_exporter": "python",
   "pygments_lexer": "ipython3",
   "version": "3.9.15"
  },
  "orig_nbformat": 4,
  "vscode": {
   "interpreter": {
    "hash": "3f812d30827dcfafc49afa604e430aca6abfcfc8451ce89abf25df7bee697806"
   }
  }
 },
 "nbformat": 4,
 "nbformat_minor": 2
}
