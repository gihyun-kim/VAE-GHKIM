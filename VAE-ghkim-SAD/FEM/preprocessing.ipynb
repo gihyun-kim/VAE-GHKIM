{
 "cells": [
  {
   "cell_type": "code",
   "execution_count": null,
   "metadata": {},
   "outputs": [],
   "source": []
  }
 ],
 "metadata": {
  "kernelspec": {
   "display_name": "VAE-ghkim",
   "language": "python",
   "name": "python3"
  },
  "language_info": {
   "name": "python",
   "version": "3.9.15 (main, Nov 24 2022, 14:39:17) [MSC v.1916 64 bit (AMD64)]"
  },
  "orig_nbformat": 4,
  "vscode": {
   "interpreter": {
    "hash": "3f812d30827dcfafc49afa604e430aca6abfcfc8451ce89abf25df7bee697806"
   }
  }
 },
 "nbformat": 4,
 "nbformat_minor": 2
}
